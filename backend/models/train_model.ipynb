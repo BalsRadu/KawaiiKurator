{
 "cells": [
  {
   "cell_type": "code",
   "execution_count": null,
   "metadata": {},
   "outputs": [],
   "source": [
    "### Basic libraries\n",
    "import numpy as np\n",
    "import pandas as pd\n",
    "import matplotlib.pyplot as plt\n",
    "%matplotlib inline\n",
    "import pickle\n",
    "import warnings\n",
    "warnings.filterwarnings(action='ignore')\n",
    "\n",
    "# Data Preprocessing\n",
    "from sklearn.preprocessing import MinMaxScaler\n",
    "from sklearn.preprocessing import LabelEncoder\n",
    "\n",
    "# Model Training\n",
    "from sklearn.utils import shuffle\n",
    "from sklearn.model_selection import train_test_split\n",
    "import torch\n",
    "import torch.nn as nn\n",
    "import torch.nn.functional as F\n",
    "import torch.optim as optim\n",
    "\n",
    "# Model Training with PyTorch Lightning\n",
    "from torch.utils.data import DataLoader, TensorDataset\n",
    "import pytorch_lightning as pl\n",
    "from pytorch_lightning.callbacks import ModelCheckpoint, EarlyStopping, LearningRateMonitor\n",
    "\n",
    "## Import necessary modules for content-based filtering\n",
    "from sklearn.feature_extraction.text import TfidfVectorizer\n",
    "from sklearn.metrics.pairwise import linear_kernel"
   ]
  },
  {
   "cell_type": "code",
   "execution_count": null,
   "metadata": {},
   "outputs": [],
   "source": [
    "# Load the dataset\n",
    "df=pd.read_csv('../datasets/users-score-2023.csv', usecols=[\"user_id\",\"anime_id\",\"rating\"])\n",
    "print(\"Shape of the Dataset:\",df.shape)\n",
    "df.head()"
   ]
  },
  {
   "cell_type": "code",
   "execution_count": null,
   "metadata": {},
   "outputs": [],
   "source": [
    "# Checking if there are any duplicate rows\n",
    "duplicated_rows = df[df.duplicated()]\n",
    "print(\"Duplicated Rows:\")\n",
    "print(duplicated_rows)"
   ]
  },
  {
   "cell_type": "code",
   "execution_count": null,
   "metadata": {},
   "outputs": [],
   "source": [
    "# Calculating the average score\n",
    "avg_score = np.mean(df['rating'])\n",
    "print('Average Score:', avg_score)"
   ]
  },
  {
   "cell_type": "code",
   "execution_count": null,
   "metadata": {},
   "outputs": [],
   "source": [
    "# Scaling our \"rating\" column\n",
    "# Create a MinMaxScaler object\n",
    "scaler = MinMaxScaler(feature_range=(0, 1))\n",
    "\n",
    "# Scale the 'score' column between 0 and 1\n",
    "df['scaled_score'] = scaler.fit_transform(df[['rating']])"
   ]
  },
  {
   "cell_type": "code",
   "execution_count": null,
   "metadata": {},
   "outputs": [],
   "source": [
    "# Encoding categorical data\n",
    "\n",
    "## Encoding user IDs\n",
    "user_encoder = LabelEncoder()\n",
    "df[\"user_encoded\"] = user_encoder.fit_transform(df[\"user_id\"])\n",
    "num_users = len(user_encoder.classes_)\n",
    "\n",
    "## Encoding anime IDs\n",
    "anime_encoder = LabelEncoder()\n",
    "df[\"anime_encoded\"] = anime_encoder.fit_transform(df[\"anime_id\"])\n",
    "num_animes = len(anime_encoder.classes_)\n",
    "\n",
    "# Printing dataset information\n",
    "print(\"Number of unique users: {}, Number of unique anime: {}\".format(num_users, num_animes))\n",
    "print(\"Minimum rating: {}, Maximum rating: {}\".format(min(df['rating']), max(df['rating'])))"
   ]
  },
  {
   "cell_type": "code",
   "execution_count": null,
   "metadata": {},
   "outputs": [],
   "source": [
    "# Shuffle the dataset\n",
    "df = shuffle(df, random_state=100)\n",
    "\n",
    "# Create feature matrix X and target variable y\n",
    "X = df[['user_encoded', 'anime_encoded']].values\n",
    "y = df[\"scaled_score\"].values\n",
    "\n",
    "# Printing dataset information\n",
    "print(\"Shape of X:\", X.shape)\n",
    "print(\"Shape of y:\", y.shape)"
   ]
  },
  {
   "cell_type": "code",
   "execution_count": null,
   "metadata": {},
   "outputs": [],
   "source": [
    "test_set_size = 10000  # Number of samples to include in the test set\n",
    "\n",
    "X_train, X_test, y_train, y_test = train_test_split(X, y, test_size=test_set_size, random_state=73)\n",
    "\n",
    "print(\"Number of samples in the training set:\", len(y_train))\n",
    "print(\"Number of samples in the test set:\", len(y_test))"
   ]
  },
  {
   "cell_type": "code",
   "execution_count": null,
   "metadata": {},
   "outputs": [],
   "source": [
    "# Prepare input data for model training and evaluation\n",
    "X_train_array = [X_train[:, 0], X_train[:, 1]]\n",
    "X_test_array = [X_test[:, 0], X_test[:, 1]]"
   ]
  },
  {
   "cell_type": "code",
   "execution_count": null,
   "metadata": {},
   "outputs": [],
   "source": [
    "# Convert arrays into PyTorch tensors\n",
    "X_train_tensor = torch.tensor(X_train, dtype=torch.long)\n",
    "y_train_tensor = torch.tensor(y_train, dtype=torch.float32)\n",
    "\n",
    "X_test_tensor = torch.tensor(X_test, dtype=torch.long)\n",
    "y_test_tensor = torch.tensor(y_test, dtype=torch.float32)\n",
    "\n",
    "# Create TensorDatasets\n",
    "train_dataset = TensorDataset(X_train_tensor[:, 0], X_train_tensor[:, 1], y_train_tensor)\n",
    "val_dataset = TensorDataset(X_test_tensor[:, 0], X_test_tensor[:, 1], y_test_tensor)\n",
    "\n",
    "# DataLoader\n",
    "batch_size = 80000 \n",
    "train_loader = DataLoader(train_dataset, batch_size=batch_size, shuffle=True)\n",
    "val_loader = DataLoader(val_dataset, batch_size=batch_size)"
   ]
  },
  {
   "cell_type": "code",
   "execution_count": null,
   "metadata": {},
   "outputs": [],
   "source": [
    "class RecommenderNet(pl.LightningModule):\n",
    "    def __init__(self, num_users, num_animes, embedding_size=128):\n",
    "        super(RecommenderNet, self).__init__()\n",
    "        self.embedding_size = embedding_size\n",
    "        self.user_embedding = nn.Embedding(num_users, embedding_size)\n",
    "        self.anime_embedding = nn.Embedding(num_animes, embedding_size)\n",
    "        \n",
    "        self.fc1 = nn.Linear(1, 64)\n",
    "        self.fc2 = nn.Linear(64, 1)\n",
    "        \n",
    "        # Parameters for LR scheduler\n",
    "        self.start_lr = 0.00001\n",
    "        self.min_lr = 0.00001\n",
    "        self.max_lr = 0.0004\n",
    "        self.rampup_epochs = 5\n",
    "        self.sustain_epochs = 0\n",
    "        self.exp_decay = .8\n",
    "        \n",
    "    def forward(self, user_input, anime_input):\n",
    "        # Embedding layers\n",
    "        user_embedded = self.user_embedding(user_input)\n",
    "        anime_embedded = self.anime_embedding(anime_input)\n",
    "        \n",
    "        # Normalize embeddings\n",
    "        user_embedded_norm = F.normalize(user_embedded, p=2, dim=1)\n",
    "        anime_embedded_norm = F.normalize(anime_embedded, p=2, dim=1)\n",
    "        \n",
    "        # Dot product and flattening\n",
    "        dot_product = torch.sum(user_embedded_norm * anime_embedded_norm, dim=1, keepdim=True)\n",
    "          \n",
    "        # Dense layers\n",
    "        x = F.relu(self.fc1(dot_product))\n",
    "        x = torch.sigmoid(self.fc2(x))\n",
    "        return x\n",
    "    \n",
    "    def configure_optimizers(self):\n",
    "        optimizer = torch.optim.Adam(self.parameters(), lr=self.start_lr)\n",
    "        \n",
    "        # Define the learning rate schedule function\n",
    "        def lr_lambda(epoch):\n",
    "            if epoch < self.rampup_epochs:\n",
    "                return (self.max_lr - self.start_lr) / self.rampup_epochs * epoch + self.start_lr\n",
    "            elif epoch < self.rampup_epochs + self.sustain_epochs:\n",
    "                return self.max_lr\n",
    "            else:\n",
    "                return (self.max_lr - self.min_lr) * self.exp_decay**(epoch - self.rampup_epochs - self.sustain_epochs) + self.min_lr\n",
    "        \n",
    "        # Create the scheduler\n",
    "        scheduler = torch.optim.lr_scheduler.LambdaLR(optimizer, lr_lambda)\n",
    "        \n",
    "        return [optimizer], [scheduler]\n",
    "\n",
    "    \n",
    "    def lr_lambda(self, epoch):\n",
    "        if epoch < self.rampup_epochs:\n",
    "            return (self.max_lr - self.start_lr) / self.rampup_epochs * epoch + self.start_lr\n",
    "        elif epoch < self.rampup_epochs + self.sustain_epochs:\n",
    "            return self.max_lr\n",
    "        else:\n",
    "            return (self.max_lr - self.min_lr) * self.exp_decay**(epoch - self.rampup_epochs - self.sustain_epochs) + self.min_lr\n",
    "    \n",
    "    def training_step(self, batch, batch_idx):\n",
    "        user_input, anime_input, labels = batch\n",
    "        predictions = self(user_input, anime_input)\n",
    "        loss = F.binary_cross_entropy(predictions, labels.view(-1, 1))\n",
    "        self.log('train_loss', loss, on_step=False, on_epoch=True, prog_bar=True, logger=True)\n",
    "        return loss\n",
    "\n",
    "    def validation_step(self, batch, batch_idx):\n",
    "        user_input, anime_input, labels = batch\n",
    "        predictions = self(user_input, anime_input)\n",
    "        loss = F.binary_cross_entropy(predictions, labels.view(-1, 1))\n",
    "        self.log('val_loss', loss, on_step=False, on_epoch=True, prog_bar=True, logger=True)\n",
    "        return loss\n",
    "\n",
    "model = RecommenderNet(num_users, num_animes)\n",
    "    "
   ]
  },
  {
   "cell_type": "code",
   "execution_count": null,
   "metadata": {},
   "outputs": [],
   "source": [
    "# Callbacks\n",
    "checkpoint_callback = ModelCheckpoint(monitor='val_loss', save_top_k=1, mode='min')\n",
    "early_stopping_callback = EarlyStopping(monitor='val_loss', patience=3, mode='min')\n",
    "lr_monitor = LearningRateMonitor(logging_interval='epoch')\n",
    "\n",
    "trainer = pl.Trainer(callbacks=[checkpoint_callback, early_stopping_callback, lr_monitor], max_epochs=20)\n",
    "\n",
    "trainer.fit(model, train_loader, val_loader)\n",
    "\n",
    "# Save the model\n",
    "torch.save(model.state_dict(), \"anime_recommender_weights.pt\")\t"
   ]
  }
 ],
 "metadata": {
  "kernelspec": {
   "display_name": "base",
   "language": "python",
   "name": "python3"
  },
  "language_info": {
   "codemirror_mode": {
    "name": "ipython",
    "version": 3
   },
   "file_extension": ".py",
   "mimetype": "text/x-python",
   "name": "python",
   "nbconvert_exporter": "python",
   "pygments_lexer": "ipython3",
   "version": "3.10.13"
  }
 },
 "nbformat": 4,
 "nbformat_minor": 2
}
